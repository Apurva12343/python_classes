{
 "cells": [
  {
   "cell_type": "code",
   "execution_count": 1,
   "id": "eb575ad3",
   "metadata": {},
   "outputs": [
    {
     "data": {
      "text/plain": [
       "2"
      ]
     },
     "execution_count": 1,
     "metadata": {},
     "output_type": "execute_result"
    }
   ],
   "source": [
    "1+1"
   ]
  },
  {
   "cell_type": "code",
   "execution_count": 2,
   "id": "7e734a20",
   "metadata": {},
   "outputs": [
    {
     "data": {
      "text/plain": [
       "36"
      ]
     },
     "execution_count": 2,
     "metadata": {},
     "output_type": "execute_result"
    }
   ],
   "source": [
    "6*6"
   ]
  },
  {
   "cell_type": "code",
   "execution_count": 3,
   "id": "41a8755a",
   "metadata": {},
   "outputs": [],
   "source": [
    "a = 10"
   ]
  },
  {
   "cell_type": "code",
   "execution_count": 4,
   "id": "3b9323ee",
   "metadata": {},
   "outputs": [
    {
     "data": {
      "text/plain": [
       "10"
      ]
     },
     "execution_count": 4,
     "metadata": {},
     "output_type": "execute_result"
    }
   ],
   "source": [
    "a"
   ]
  },
  {
   "cell_type": "code",
   "execution_count": 5,
   "id": "a673dd9a",
   "metadata": {},
   "outputs": [
    {
     "data": {
      "text/plain": [
       "int"
      ]
     },
     "execution_count": 5,
     "metadata": {},
     "output_type": "execute_result"
    }
   ],
   "source": [
    "type(a)"
   ]
  },
  {
   "cell_type": "code",
   "execution_count": 6,
   "id": "15fa3c1b",
   "metadata": {},
   "outputs": [],
   "source": [
    "a = (\"Apurva\")"
   ]
  },
  {
   "cell_type": "code",
   "execution_count": 7,
   "id": "94cdf50e",
   "metadata": {},
   "outputs": [
    {
     "data": {
      "text/plain": [
       "str"
      ]
     },
     "execution_count": 7,
     "metadata": {},
     "output_type": "execute_result"
    }
   ],
   "source": [
    "type(a)"
   ]
  },
  {
   "cell_type": "code",
   "execution_count": 8,
   "id": "e8b8a3d4",
   "metadata": {},
   "outputs": [],
   "source": [
    "a1 = 45.66"
   ]
  },
  {
   "cell_type": "code",
   "execution_count": 9,
   "id": "d9158f33",
   "metadata": {},
   "outputs": [
    {
     "data": {
      "text/plain": [
       "float"
      ]
     },
     "execution_count": 9,
     "metadata": {},
     "output_type": "execute_result"
    }
   ],
   "source": [
    "type(a1)"
   ]
  },
  {
   "cell_type": "code",
   "execution_count": 18,
   "id": "9ddb53a9",
   "metadata": {},
   "outputs": [],
   "source": [
    "n = True"
   ]
  },
  {
   "cell_type": "code",
   "execution_count": 19,
   "id": "5d7ba732",
   "metadata": {},
   "outputs": [
    {
     "data": {
      "text/plain": [
       "bool"
      ]
     },
     "execution_count": 19,
     "metadata": {},
     "output_type": "execute_result"
    }
   ],
   "source": [
    "type(n)"
   ]
  },
  {
   "cell_type": "code",
   "execution_count": 20,
   "id": "543b4fd7",
   "metadata": {},
   "outputs": [],
   "source": [
    "c = 8 + 6j"
   ]
  },
  {
   "cell_type": "code",
   "execution_count": 21,
   "id": "a29401fa",
   "metadata": {},
   "outputs": [
    {
     "data": {
      "text/plain": [
       "complex"
      ]
     },
     "execution_count": 21,
     "metadata": {},
     "output_type": "execute_result"
    }
   ],
   "source": [
    "type(c)"
   ]
  },
  {
   "cell_type": "code",
   "execution_count": 23,
   "id": "5a79f23a",
   "metadata": {},
   "outputs": [
    {
     "data": {
      "text/plain": [
       "8.0"
      ]
     },
     "execution_count": 23,
     "metadata": {},
     "output_type": "execute_result"
    }
   ],
   "source": [
    "c.real"
   ]
  },
  {
   "cell_type": "code",
   "execution_count": 24,
   "id": "2f2e13ec",
   "metadata": {},
   "outputs": [
    {
     "data": {
      "text/plain": [
       "6.0"
      ]
     },
     "execution_count": 24,
     "metadata": {},
     "output_type": "execute_result"
    }
   ],
   "source": [
    "c.imag"
   ]
  },
  {
   "cell_type": "code",
   "execution_count": 25,
   "id": "05783569",
   "metadata": {},
   "outputs": [
    {
     "data": {
      "text/plain": [
       "(8-6j)"
      ]
     },
     "execution_count": 25,
     "metadata": {},
     "output_type": "execute_result"
    }
   ],
   "source": [
    "c.conjugate()"
   ]
  },
  {
   "cell_type": "code",
   "execution_count": 26,
   "id": "93c06fda",
   "metadata": {},
   "outputs": [],
   "source": [
    "n = \"Apurva\""
   ]
  },
  {
   "cell_type": "code",
   "execution_count": 27,
   "id": "836a93eb",
   "metadata": {},
   "outputs": [
    {
     "data": {
      "text/plain": [
       "str"
      ]
     },
     "execution_count": 27,
     "metadata": {},
     "output_type": "execute_result"
    }
   ],
   "source": [
    "type(n)"
   ]
  },
  {
   "cell_type": "code",
   "execution_count": 28,
   "id": "3806be82",
   "metadata": {},
   "outputs": [],
   "source": [
    "s = \"my name is apurva\""
   ]
  },
  {
   "cell_type": "code",
   "execution_count": 29,
   "id": "cdccb52d",
   "metadata": {},
   "outputs": [
    {
     "data": {
      "text/plain": [
       "'Apurva'"
      ]
     },
     "execution_count": 29,
     "metadata": {},
     "output_type": "execute_result"
    }
   ],
   "source": [
    "n.capitalize()"
   ]
  },
  {
   "cell_type": "code",
   "execution_count": 30,
   "id": "def4a3a1",
   "metadata": {},
   "outputs": [
    {
     "data": {
      "text/plain": [
       "'apurva'"
      ]
     },
     "execution_count": 30,
     "metadata": {},
     "output_type": "execute_result"
    }
   ],
   "source": [
    "n.casefold()"
   ]
  },
  {
   "cell_type": "code",
   "execution_count": 36,
   "id": "30a27898",
   "metadata": {},
   "outputs": [
    {
     "data": {
      "text/plain": [
       "'Apurva'"
      ]
     },
     "execution_count": 36,
     "metadata": {},
     "output_type": "execute_result"
    }
   ],
   "source": [
    "n.center(0)"
   ]
  },
  {
   "cell_type": "code",
   "execution_count": 37,
   "id": "de2e80ec",
   "metadata": {},
   "outputs": [
    {
     "data": {
      "text/plain": [
       "3"
      ]
     },
     "execution_count": 37,
     "metadata": {},
     "output_type": "execute_result"
    }
   ],
   "source": [
    "s.count(\"a\")"
   ]
  },
  {
   "cell_type": "code",
   "execution_count": 38,
   "id": "c616df9b",
   "metadata": {},
   "outputs": [
    {
     "data": {
      "text/plain": [
       "'Apurva'"
      ]
     },
     "execution_count": 38,
     "metadata": {},
     "output_type": "execute_result"
    }
   ],
   "source": [
    "n"
   ]
  },
  {
   "cell_type": "code",
   "execution_count": 39,
   "id": "a6875587",
   "metadata": {},
   "outputs": [
    {
     "data": {
      "text/plain": [
       "'Ap'"
      ]
     },
     "execution_count": 39,
     "metadata": {},
     "output_type": "execute_result"
    }
   ],
   "source": [
    "n[0:2]"
   ]
  },
  {
   "cell_type": "code",
   "execution_count": 40,
   "id": "e675c140",
   "metadata": {},
   "outputs": [
    {
     "data": {
      "text/plain": [
       "'Auv'"
      ]
     },
     "execution_count": 40,
     "metadata": {},
     "output_type": "execute_result"
    }
   ],
   "source": [
    "n[0::2]"
   ]
  },
  {
   "cell_type": "code",
   "execution_count": 41,
   "id": "18525996",
   "metadata": {},
   "outputs": [
    {
     "data": {
      "text/plain": [
       "'Apurva'"
      ]
     },
     "execution_count": 41,
     "metadata": {},
     "output_type": "execute_result"
    }
   ],
   "source": [
    "n[0::1]"
   ]
  },
  {
   "cell_type": "code",
   "execution_count": 42,
   "id": "91f69d0b",
   "metadata": {},
   "outputs": [
    {
     "data": {
      "text/plain": [
       "''"
      ]
     },
     "execution_count": 42,
     "metadata": {},
     "output_type": "execute_result"
    }
   ],
   "source": [
    "n[6:0]"
   ]
  },
  {
   "cell_type": "code",
   "execution_count": 43,
   "id": "8704bff1",
   "metadata": {},
   "outputs": [
    {
     "data": {
      "text/plain": [
       "'avrupA'"
      ]
     },
     "execution_count": 43,
     "metadata": {},
     "output_type": "execute_result"
    }
   ],
   "source": [
    "n[7::-1]"
   ]
  },
  {
   "cell_type": "markdown",
   "id": "3ce84247",
   "metadata": {},
   "source": [
    "# LIST Tuple set\n"
   ]
  },
  {
   "cell_type": "code",
   "execution_count": null,
   "id": "af03ab47",
   "metadata": {},
   "outputs": [],
   "source": []
  },
  {
   "cell_type": "code",
   "execution_count": null,
   "id": "45428da2",
   "metadata": {},
   "outputs": [],
   "source": []
  }
 ],
 "metadata": {
  "kernelspec": {
   "display_name": "Python 3 (ipykernel)",
   "language": "python",
   "name": "python3"
  },
  "language_info": {
   "codemirror_mode": {
    "name": "ipython",
    "version": 3
   },
   "file_extension": ".py",
   "mimetype": "text/x-python",
   "name": "python",
   "nbconvert_exporter": "python",
   "pygments_lexer": "ipython3",
   "version": "3.9.13"
  }
 },
 "nbformat": 4,
 "nbformat_minor": 5
}
